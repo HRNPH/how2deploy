{
 "cells": [
  {
   "cell_type": "code",
   "execution_count": 1,
   "metadata": {},
   "outputs": [],
   "source": [
    "import tensorflow.keras as keras\n",
    "import pandas as pd\n",
    "import numpy as np\n",
    "import pythainlp as pythai"
   ]
  },
  {
   "cell_type": "markdown",
   "metadata": {},
   "source": [
    "## ชุดข้อมูล\n",
    "https://github.com/PyThaiNLP/thai-sentiment-analysis-dataset"
   ]
  },
  {
   "cell_type": "code",
   "execution_count": 2,
   "metadata": {},
   "outputs": [
    {
     "data": {
      "text/html": [
       "<div>\n",
       "<style scoped>\n",
       "    .dataframe tbody tr th:only-of-type {\n",
       "        vertical-align: middle;\n",
       "    }\n",
       "\n",
       "    .dataframe tbody tr th {\n",
       "        vertical-align: top;\n",
       "    }\n",
       "\n",
       "    .dataframe thead th {\n",
       "        text-align: right;\n",
       "    }\n",
       "</style>\n",
       "<table border=\"1\" class=\"dataframe\">\n",
       "  <thead>\n",
       "    <tr style=\"text-align: right;\">\n",
       "      <th></th>\n",
       "      <th>review</th>\n",
       "      <th>label</th>\n",
       "    </tr>\n",
       "  </thead>\n",
       "  <tbody>\n",
       "    <tr>\n",
       "      <th>0</th>\n",
       "      <td>เกลียด ชอบหลอกให้สั่งซื้อ ที่ไหนได้ไม่มีสิ้นค้า</td>\n",
       "      <td>neg</td>\n",
       "    </tr>\n",
       "    <tr>\n",
       "      <th>1</th>\n",
       "      <td>สินค้าด้อยคุณภาพ</td>\n",
       "      <td>neg</td>\n",
       "    </tr>\n",
       "    <tr>\n",
       "      <th>2</th>\n",
       "      <td>สินค้าหมดทำไมไม่แจ้งขึ้นว่าหมดอะ.กดใส่ตะกร้าไป...</td>\n",
       "      <td>neg</td>\n",
       "    </tr>\n",
       "    <tr>\n",
       "      <th>3</th>\n",
       "      <td>อย่าทำแบบนี้กับใครอีกนะค่ะแย่มากค่ะ</td>\n",
       "      <td>neg</td>\n",
       "    </tr>\n",
       "    <tr>\n",
       "      <th>4</th>\n",
       "      <td>คือเเบบผิดหวังมาก เเย่ที่สุดได้ของมาฝาเเตก เเต...</td>\n",
       "      <td>neg</td>\n",
       "    </tr>\n",
       "  </tbody>\n",
       "</table>\n",
       "</div>"
      ],
      "text/plain": [
       "                                              review label\n",
       "0    เกลียด ชอบหลอกให้สั่งซื้อ ที่ไหนได้ไม่มีสิ้นค้า   neg\n",
       "1                                   สินค้าด้อยคุณภาพ   neg\n",
       "2  สินค้าหมดทำไมไม่แจ้งขึ้นว่าหมดอะ.กดใส่ตะกร้าไป...   neg\n",
       "3                อย่าทำแบบนี้กับใครอีกนะค่ะแย่มากค่ะ   neg\n",
       "4  คือเเบบผิดหวังมาก เเย่ที่สุดได้ของมาฝาเเตก เเต...   neg"
      ]
     },
     "execution_count": 2,
     "metadata": {},
     "output_type": "execute_result"
    }
   ],
   "source": [
    "data = pd.read_csv('./datasets/review_shopping.csv', sep='\\t', encoding='utf-8', header=None)\n",
    "data = data.append(pd.read_csv('./datasets/general-amy.csv', sep='\\t', encoding='utf-8', header=None))\n",
    "data = data.append(pd.read_csv('./datasets/tcas61.csv', sep='\\t', encoding='utf-8', header=None))\n",
    "data.columns = ['review', 'label']\n",
    "data.head()"
   ]
  },
  {
   "cell_type": "markdown",
   "metadata": {},
   "source": [
    "### Tokenize"
   ]
  },
  {
   "cell_type": "code",
   "execution_count": 3,
   "metadata": {},
   "outputs": [
    {
     "data": {
      "text/html": [
       "<div>\n",
       "<style scoped>\n",
       "    .dataframe tbody tr th:only-of-type {\n",
       "        vertical-align: middle;\n",
       "    }\n",
       "\n",
       "    .dataframe tbody tr th {\n",
       "        vertical-align: top;\n",
       "    }\n",
       "\n",
       "    .dataframe thead th {\n",
       "        text-align: right;\n",
       "    }\n",
       "</style>\n",
       "<table border=\"1\" class=\"dataframe\">\n",
       "  <thead>\n",
       "    <tr style=\"text-align: right;\">\n",
       "      <th></th>\n",
       "      <th>review</th>\n",
       "      <th>label</th>\n",
       "    </tr>\n",
       "  </thead>\n",
       "  <tbody>\n",
       "    <tr>\n",
       "      <th>0</th>\n",
       "      <td>[เกลียด,  , ชอบ, หลอก, ให้, สั่งซื้อ,  , ที่ไห...</td>\n",
       "      <td>0</td>\n",
       "    </tr>\n",
       "    <tr>\n",
       "      <th>1</th>\n",
       "      <td>[สินค้า, ด้อย, คุณภาพ]</td>\n",
       "      <td>0</td>\n",
       "    </tr>\n",
       "    <tr>\n",
       "      <th>2</th>\n",
       "      <td>[สินค้า, หมด, ทำไม, ไม่, แจ้ง, ขึ้น, ว่า, หมด,...</td>\n",
       "      <td>0</td>\n",
       "    </tr>\n",
       "    <tr>\n",
       "      <th>3</th>\n",
       "      <td>[อย่า, ทำ, แบบนี้, กับ, ใคร, อีก, นะ, ค่ะ, แย่...</td>\n",
       "      <td>0</td>\n",
       "    </tr>\n",
       "    <tr>\n",
       "      <th>4</th>\n",
       "      <td>[คือ, เเบบ, ผิดหวัง, มาก,  , เเย่, ที่สุด, ได้...</td>\n",
       "      <td>0</td>\n",
       "    </tr>\n",
       "  </tbody>\n",
       "</table>\n",
       "</div>"
      ],
      "text/plain": [
       "                                              review  label\n",
       "0  [เกลียด,  , ชอบ, หลอก, ให้, สั่งซื้อ,  , ที่ไห...      0\n",
       "1                             [สินค้า, ด้อย, คุณภาพ]      0\n",
       "2  [สินค้า, หมด, ทำไม, ไม่, แจ้ง, ขึ้น, ว่า, หมด,...      0\n",
       "3  [อย่า, ทำ, แบบนี้, กับ, ใคร, อีก, นะ, ค่ะ, แย่...      0\n",
       "4  [คือ, เเบบ, ผิดหวัง, มาก,  , เเย่, ที่สุด, ได้...      0"
      ]
     },
     "execution_count": 3,
     "metadata": {},
     "output_type": "execute_result"
    }
   ],
   "source": [
    "# Read data\n",
    "data = pd.read_csv('./datasets/review_shopping.csv', sep='\\t', encoding='utf-8', header=None)\n",
    "data = data.append(pd.read_csv('./datasets/general-amy.csv', sep='\\t', encoding='utf-8', header=None))\n",
    "data = data.append(pd.read_csv('./datasets/tcas61.csv', sep='\\t', encoding='utf-8', header=None))\n",
    "data.columns = ['review', 'label']\n",
    "# drop null\n",
    "data = data.dropna()\n",
    "# tokenize\n",
    "data['review'] = data['review'].apply(lambda x: pythai.word_tokenize(x, engine='newmm'))\n",
    "data['label'] = data['label'].map({'pos': 1, 'neg': 0})\n",
    "data.head()"
   ]
  },
  {
   "cell_type": "code",
   "execution_count": 4,
   "metadata": {},
   "outputs": [
    {
     "name": "stdout",
     "output_type": "stream",
     "text": [
      "Sample: [ 32 163  93 157  62  13   5  13   0   0   0   0   0   0   0   0   0   0\n",
      "   0   0   0   0   0   0   0   0   0   0   0   0   0   0   0   0   0   0\n",
      "   0   0   0   0   0   0   0   0   0   0   0   0   0   0   0   0   0   0\n",
      "   0   0   0   0   0   0]\n"
     ]
    }
   ],
   "source": [
    "# Tokenize\n",
    "from tensorflow.keras.preprocessing.text import Tokenizer\n",
    "from tensorflow.keras.preprocessing.sequence import pad_sequences\n",
    "\n",
    "tokenizer = Tokenizer(num_words=10000, oov_token='<UNK>')\n",
    "tokenizer.fit_on_texts(data['review'])\n",
    "word_index = tokenizer.word_index\n",
    "sequences = tokenizer.texts_to_sequences(data['review'])\n",
    "padded = pad_sequences(sequences, maxlen=60, padding='post', truncating='post')\n",
    "print('Sample:', padded[20])"
   ]
  },
  {
   "cell_type": "code",
   "execution_count": 5,
   "metadata": {},
   "outputs": [
    {
     "data": {
      "text/plain": [
       "['ใช้ เดือน เดียว พัง แย่ ๆ มาก ๆ <UNK> <UNK> <UNK> <UNK> <UNK> <UNK> <UNK> <UNK> <UNK> <UNK> <UNK> <UNK> <UNK> <UNK> <UNK> <UNK> <UNK> <UNK> <UNK> <UNK> <UNK> <UNK> <UNK> <UNK> <UNK> <UNK> <UNK> <UNK> <UNK> <UNK> <UNK> <UNK> <UNK> <UNK> <UNK> <UNK> <UNK> <UNK> <UNK> <UNK> <UNK> <UNK> <UNK> <UNK> <UNK> <UNK> <UNK> <UNK> <UNK> <UNK> <UNK> <UNK>']"
      ]
     },
     "execution_count": 5,
     "metadata": {},
     "output_type": "execute_result"
    }
   ],
   "source": [
    "# sample\n",
    "test = padded[20]\n",
    "# to text\n",
    "tokenizer.sequences_to_texts([test])"
   ]
  },
  {
   "cell_type": "code",
   "execution_count": 6,
   "metadata": {},
   "outputs": [
    {
     "name": "stdout",
     "output_type": "stream",
     "text": [
      "341\n",
      "Train data: (242, 60)\n",
      "Test data: (99, 60)\n"
     ]
    }
   ],
   "source": [
    "print(data.shape[0])\n",
    "# train data\n",
    "train_data = padded[:242]\n",
    "train_label = data['label'][:242]\n",
    "# test data\n",
    "test_data = padded[242:]\n",
    "test_label = data['label'][242:]\n",
    "full = False\n",
    "if full:\n",
    "    train_data = padded\n",
    "    train_label = data['label']\n",
    "# train data, test data\n",
    "print('Train data:', train_data.shape)\n",
    "print('Test data:', test_data.shape)"
   ]
  },
  {
   "cell_type": "code",
   "execution_count": 7,
   "metadata": {},
   "outputs": [],
   "source": [
    "# create simple model\n",
    "model = keras.Sequential([\n",
    "    keras.layers.Embedding(10000, 16, input_length=60),\n",
    "    keras.layers.GlobalAveragePooling1D(),\n",
    "    keras.layers.Dense(16, activation='relu'),\n",
    "    keras.layers.Dense(1, activation='sigmoid')\n",
    "])"
   ]
  },
  {
   "cell_type": "code",
   "execution_count": 8,
   "metadata": {},
   "outputs": [
    {
     "name": "stdout",
     "output_type": "stream",
     "text": [
      "Model: \"sequential\"\n",
      "_________________________________________________________________\n",
      "Layer (type)                 Output Shape              Param #   \n",
      "=================================================================\n",
      "embedding (Embedding)        (None, 60, 16)            160000    \n",
      "_________________________________________________________________\n",
      "global_average_pooling1d (Gl (None, 16)                0         \n",
      "_________________________________________________________________\n",
      "dense (Dense)                (None, 16)                272       \n",
      "_________________________________________________________________\n",
      "dense_1 (Dense)              (None, 1)                 17        \n",
      "=================================================================\n",
      "Total params: 160,289\n",
      "Trainable params: 160,289\n",
      "Non-trainable params: 0\n",
      "_________________________________________________________________\n"
     ]
    }
   ],
   "source": [
    "model.summary()"
   ]
  },
  {
   "cell_type": "code",
   "execution_count": 9,
   "metadata": {},
   "outputs": [
    {
     "name": "stdout",
     "output_type": "stream",
     "text": [
      "Epoch 1/100\n",
      "8/8 [==============================] - 5s 71ms/step - loss: 0.6935 - accuracy: 0.4752 - val_loss: 0.6940 - val_accuracy: 0.4343\n",
      "Epoch 2/100\n",
      "8/8 [==============================] - 0s 17ms/step - loss: 0.6924 - accuracy: 0.5248 - val_loss: 0.6919 - val_accuracy: 0.6566\n",
      "Epoch 3/100\n",
      "8/8 [==============================] - 0s 15ms/step - loss: 0.6914 - accuracy: 0.6570 - val_loss: 0.6896 - val_accuracy: 0.6667\n",
      "Epoch 4/100\n",
      "8/8 [==============================] - 0s 15ms/step - loss: 0.6904 - accuracy: 0.5248 - val_loss: 0.6876 - val_accuracy: 0.6667\n",
      "Epoch 5/100\n",
      "8/8 [==============================] - 0s 15ms/step - loss: 0.6896 - accuracy: 0.5248 - val_loss: 0.6858 - val_accuracy: 0.6667\n",
      "Epoch 6/100\n",
      "8/8 [==============================] - 0s 22ms/step - loss: 0.6885 - accuracy: 0.5248 - val_loss: 0.6846 - val_accuracy: 0.6667\n",
      "Epoch 7/100\n",
      "8/8 [==============================] - 0s 20ms/step - loss: 0.6872 - accuracy: 0.5248 - val_loss: 0.6829 - val_accuracy: 0.6667\n",
      "Epoch 8/100\n",
      "8/8 [==============================] - 0s 21ms/step - loss: 0.6860 - accuracy: 0.5248 - val_loss: 0.6817 - val_accuracy: 0.6667\n",
      "Epoch 9/100\n",
      "8/8 [==============================] - 0s 16ms/step - loss: 0.6846 - accuracy: 0.5248 - val_loss: 0.6795 - val_accuracy: 0.6667\n",
      "Epoch 10/100\n",
      "8/8 [==============================] - 0s 18ms/step - loss: 0.6825 - accuracy: 0.5248 - val_loss: 0.6782 - val_accuracy: 0.6667\n",
      "Epoch 11/100\n",
      "8/8 [==============================] - 0s 17ms/step - loss: 0.6805 - accuracy: 0.5496 - val_loss: 0.6770 - val_accuracy: 0.6667\n",
      "Epoch 12/100\n",
      "8/8 [==============================] - 0s 19ms/step - loss: 0.6781 - accuracy: 0.5950 - val_loss: 0.6753 - val_accuracy: 0.6667\n",
      "Epoch 13/100\n",
      "8/8 [==============================] - 0s 17ms/step - loss: 0.6754 - accuracy: 0.6529 - val_loss: 0.6734 - val_accuracy: 0.6970\n",
      "Epoch 14/100\n",
      "8/8 [==============================] - 0s 16ms/step - loss: 0.6722 - accuracy: 0.6983 - val_loss: 0.6703 - val_accuracy: 0.6970\n",
      "Epoch 15/100\n",
      "8/8 [==============================] - 0s 16ms/step - loss: 0.6686 - accuracy: 0.7438 - val_loss: 0.6678 - val_accuracy: 0.7172\n",
      "Epoch 16/100\n",
      "8/8 [==============================] - 0s 15ms/step - loss: 0.6644 - accuracy: 0.7975 - val_loss: 0.6638 - val_accuracy: 0.7172\n",
      "Epoch 17/100\n",
      "8/8 [==============================] - 0s 16ms/step - loss: 0.6599 - accuracy: 0.8843 - val_loss: 0.6613 - val_accuracy: 0.7778\n",
      "Epoch 18/100\n",
      "8/8 [==============================] - 0s 16ms/step - loss: 0.6541 - accuracy: 0.9380 - val_loss: 0.6557 - val_accuracy: 0.7475\n",
      "Epoch 19/100\n",
      "8/8 [==============================] - 0s 16ms/step - loss: 0.6481 - accuracy: 0.9463 - val_loss: 0.6507 - val_accuracy: 0.7778\n",
      "Epoch 20/100\n",
      "8/8 [==============================] - 0s 18ms/step - loss: 0.6416 - accuracy: 0.9215 - val_loss: 0.6445 - val_accuracy: 0.7677\n",
      "Epoch 21/100\n",
      "8/8 [==============================] - 0s 16ms/step - loss: 0.6336 - accuracy: 0.9669 - val_loss: 0.6408 - val_accuracy: 0.8485\n",
      "Epoch 22/100\n",
      "8/8 [==============================] - 0s 18ms/step - loss: 0.6251 - accuracy: 0.9835 - val_loss: 0.6333 - val_accuracy: 0.8182\n",
      "Epoch 23/100\n",
      "8/8 [==============================] - 0s 16ms/step - loss: 0.6159 - accuracy: 0.9752 - val_loss: 0.6253 - val_accuracy: 0.8182\n",
      "Epoch 24/100\n",
      "8/8 [==============================] - 0s 16ms/step - loss: 0.6056 - accuracy: 0.9835 - val_loss: 0.6192 - val_accuracy: 0.8586\n",
      "Epoch 25/100\n",
      "8/8 [==============================] - 0s 16ms/step - loss: 0.5945 - accuracy: 0.9793 - val_loss: 0.6102 - val_accuracy: 0.8485\n",
      "Epoch 26/100\n",
      "8/8 [==============================] - 0s 18ms/step - loss: 0.5824 - accuracy: 0.9876 - val_loss: 0.6009 - val_accuracy: 0.8485\n",
      "Epoch 27/100\n",
      "8/8 [==============================] - 0s 13ms/step - loss: 0.5700 - accuracy: 0.9835 - val_loss: 0.5905 - val_accuracy: 0.8283\n",
      "Epoch 28/100\n",
      "8/8 [==============================] - 0s 17ms/step - loss: 0.5560 - accuracy: 0.9835 - val_loss: 0.5820 - val_accuracy: 0.8687\n",
      "Epoch 29/100\n",
      "8/8 [==============================] - 0s 18ms/step - loss: 0.5415 - accuracy: 0.9835 - val_loss: 0.5713 - val_accuracy: 0.8687\n",
      "Epoch 30/100\n",
      "8/8 [==============================] - 0s 16ms/step - loss: 0.5265 - accuracy: 0.9835 - val_loss: 0.5612 - val_accuracy: 0.8687\n",
      "Epoch 31/100\n",
      "8/8 [==============================] - 0s 24ms/step - loss: 0.5109 - accuracy: 0.9876 - val_loss: 0.5482 - val_accuracy: 0.8687\n",
      "Epoch 32/100\n",
      "8/8 [==============================] - 0s 24ms/step - loss: 0.4948 - accuracy: 0.9917 - val_loss: 0.5363 - val_accuracy: 0.8586\n",
      "Epoch 33/100\n",
      "8/8 [==============================] - 0s 29ms/step - loss: 0.4781 - accuracy: 0.9835 - val_loss: 0.5290 - val_accuracy: 0.8687\n",
      "Epoch 34/100\n",
      "8/8 [==============================] - 0s 25ms/step - loss: 0.4613 - accuracy: 0.9793 - val_loss: 0.5147 - val_accuracy: 0.8586\n",
      "Epoch 35/100\n",
      "8/8 [==============================] - 0s 23ms/step - loss: 0.4450 - accuracy: 0.9835 - val_loss: 0.5039 - val_accuracy: 0.8687\n",
      "Epoch 36/100\n",
      "8/8 [==============================] - 0s 20ms/step - loss: 0.4292 - accuracy: 0.9793 - val_loss: 0.4884 - val_accuracy: 0.8384\n",
      "Epoch 37/100\n",
      "8/8 [==============================] - 0s 17ms/step - loss: 0.4109 - accuracy: 0.9917 - val_loss: 0.4815 - val_accuracy: 0.8586\n",
      "Epoch 38/100\n",
      "8/8 [==============================] - 0s 19ms/step - loss: 0.3937 - accuracy: 0.9835 - val_loss: 0.4712 - val_accuracy: 0.8687\n",
      "Epoch 39/100\n",
      "8/8 [==============================] - 0s 15ms/step - loss: 0.3776 - accuracy: 0.9917 - val_loss: 0.4591 - val_accuracy: 0.8586\n",
      "Epoch 40/100\n",
      "8/8 [==============================] - 0s 11ms/step - loss: 0.3614 - accuracy: 0.9917 - val_loss: 0.4483 - val_accuracy: 0.8586\n",
      "Epoch 41/100\n",
      "8/8 [==============================] - 0s 16ms/step - loss: 0.3451 - accuracy: 0.9917 - val_loss: 0.4400 - val_accuracy: 0.8687\n",
      "Epoch 42/100\n",
      "8/8 [==============================] - 0s 22ms/step - loss: 0.3306 - accuracy: 0.9835 - val_loss: 0.4303 - val_accuracy: 0.8586\n",
      "Epoch 43/100\n",
      "8/8 [==============================] - 0s 21ms/step - loss: 0.3150 - accuracy: 0.9835 - val_loss: 0.4219 - val_accuracy: 0.8788\n",
      "Epoch 44/100\n",
      "8/8 [==============================] - 0s 19ms/step - loss: 0.3010 - accuracy: 0.9835 - val_loss: 0.4147 - val_accuracy: 0.8990\n",
      "Epoch 45/100\n",
      "8/8 [==============================] - 0s 20ms/step - loss: 0.2874 - accuracy: 0.9876 - val_loss: 0.4043 - val_accuracy: 0.8889\n",
      "Epoch 46/100\n",
      "8/8 [==============================] - 0s 19ms/step - loss: 0.2743 - accuracy: 0.9917 - val_loss: 0.3952 - val_accuracy: 0.8687\n",
      "Epoch 47/100\n",
      "8/8 [==============================] - 0s 17ms/step - loss: 0.2623 - accuracy: 0.9876 - val_loss: 0.3905 - val_accuracy: 0.8990\n",
      "Epoch 48/100\n",
      "8/8 [==============================] - 0s 15ms/step - loss: 0.2494 - accuracy: 0.9876 - val_loss: 0.3838 - val_accuracy: 0.8990\n",
      "Epoch 49/100\n",
      "8/8 [==============================] - 0s 16ms/step - loss: 0.2385 - accuracy: 0.9917 - val_loss: 0.3761 - val_accuracy: 0.8889\n",
      "Epoch 50/100\n",
      "8/8 [==============================] - 0s 18ms/step - loss: 0.2270 - accuracy: 0.9917 - val_loss: 0.3708 - val_accuracy: 0.8990\n",
      "Epoch 51/100\n",
      "8/8 [==============================] - 0s 16ms/step - loss: 0.2172 - accuracy: 0.9876 - val_loss: 0.3654 - val_accuracy: 0.8889\n",
      "Epoch 52/100\n",
      "8/8 [==============================] - 0s 14ms/step - loss: 0.2081 - accuracy: 0.9917 - val_loss: 0.3579 - val_accuracy: 0.8990\n",
      "Epoch 53/100\n",
      "8/8 [==============================] - 0s 15ms/step - loss: 0.1977 - accuracy: 0.9917 - val_loss: 0.3546 - val_accuracy: 0.8889\n",
      "Epoch 54/100\n",
      "8/8 [==============================] - 0s 18ms/step - loss: 0.1891 - accuracy: 0.9959 - val_loss: 0.3496 - val_accuracy: 0.8889\n",
      "Epoch 55/100\n",
      "8/8 [==============================] - 0s 16ms/step - loss: 0.1809 - accuracy: 0.9959 - val_loss: 0.3441 - val_accuracy: 0.8889\n",
      "Epoch 56/100\n",
      "8/8 [==============================] - 0s 17ms/step - loss: 0.1730 - accuracy: 0.9959 - val_loss: 0.3414 - val_accuracy: 0.8788\n",
      "Epoch 57/100\n",
      "8/8 [==============================] - 0s 16ms/step - loss: 0.1654 - accuracy: 0.9959 - val_loss: 0.3365 - val_accuracy: 0.8889\n",
      "Epoch 58/100\n",
      "8/8 [==============================] - 0s 20ms/step - loss: 0.1589 - accuracy: 0.9959 - val_loss: 0.3328 - val_accuracy: 0.8889\n",
      "Epoch 59/100\n",
      "8/8 [==============================] - 0s 19ms/step - loss: 0.1516 - accuracy: 0.9959 - val_loss: 0.3300 - val_accuracy: 0.8889\n",
      "Epoch 60/100\n",
      "8/8 [==============================] - 0s 16ms/step - loss: 0.1456 - accuracy: 0.9959 - val_loss: 0.3264 - val_accuracy: 0.8788\n",
      "Epoch 61/100\n",
      "8/8 [==============================] - 0s 16ms/step - loss: 0.1394 - accuracy: 0.9959 - val_loss: 0.3241 - val_accuracy: 0.8990\n",
      "Epoch 62/100\n",
      "8/8 [==============================] - 0s 17ms/step - loss: 0.1340 - accuracy: 0.9959 - val_loss: 0.3211 - val_accuracy: 0.8990\n",
      "Epoch 63/100\n",
      "8/8 [==============================] - 0s 18ms/step - loss: 0.1283 - accuracy: 0.9959 - val_loss: 0.3168 - val_accuracy: 0.8889\n",
      "Epoch 64/100\n",
      "8/8 [==============================] - 0s 16ms/step - loss: 0.1235 - accuracy: 0.9959 - val_loss: 0.3147 - val_accuracy: 0.8788\n",
      "Epoch 65/100\n",
      "8/8 [==============================] - 0s 17ms/step - loss: 0.1184 - accuracy: 0.9959 - val_loss: 0.3136 - val_accuracy: 0.8990\n",
      "Epoch 66/100\n",
      "8/8 [==============================] - 0s 17ms/step - loss: 0.1140 - accuracy: 0.9959 - val_loss: 0.3130 - val_accuracy: 0.9091\n",
      "Epoch 67/100\n",
      "8/8 [==============================] - 0s 19ms/step - loss: 0.1095 - accuracy: 0.9959 - val_loss: 0.3097 - val_accuracy: 0.8990\n",
      "Epoch 68/100\n",
      "8/8 [==============================] - 0s 19ms/step - loss: 0.1054 - accuracy: 0.9959 - val_loss: 0.3076 - val_accuracy: 0.8990\n",
      "Epoch 69/100\n",
      "8/8 [==============================] - 0s 17ms/step - loss: 0.1014 - accuracy: 0.9959 - val_loss: 0.3056 - val_accuracy: 0.8889\n",
      "Epoch 70/100\n",
      "8/8 [==============================] - 0s 19ms/step - loss: 0.0977 - accuracy: 0.9959 - val_loss: 0.3047 - val_accuracy: 0.8990\n",
      "Epoch 71/100\n",
      "8/8 [==============================] - 0s 16ms/step - loss: 0.0942 - accuracy: 0.9959 - val_loss: 0.3047 - val_accuracy: 0.9091\n",
      "Epoch 72/100\n",
      "8/8 [==============================] - 0s 16ms/step - loss: 0.0910 - accuracy: 0.9959 - val_loss: 0.3029 - val_accuracy: 0.8990\n",
      "Epoch 73/100\n",
      "8/8 [==============================] - 0s 18ms/step - loss: 0.0882 - accuracy: 0.9959 - val_loss: 0.3033 - val_accuracy: 0.9091\n",
      "Epoch 74/100\n",
      "8/8 [==============================] - 0s 19ms/step - loss: 0.0844 - accuracy: 0.9959 - val_loss: 0.2994 - val_accuracy: 0.8990\n",
      "Epoch 75/100\n",
      "8/8 [==============================] - 0s 15ms/step - loss: 0.0818 - accuracy: 0.9959 - val_loss: 0.2981 - val_accuracy: 0.8990\n",
      "Epoch 76/100\n",
      "8/8 [==============================] - 0s 17ms/step - loss: 0.0788 - accuracy: 0.9959 - val_loss: 0.2978 - val_accuracy: 0.8990\n",
      "Epoch 77/100\n",
      "8/8 [==============================] - 0s 19ms/step - loss: 0.0764 - accuracy: 0.9959 - val_loss: 0.2995 - val_accuracy: 0.9091\n",
      "Epoch 78/100\n",
      "8/8 [==============================] - 0s 19ms/step - loss: 0.0738 - accuracy: 0.9959 - val_loss: 0.2965 - val_accuracy: 0.8990\n",
      "Epoch 79/100\n",
      "8/8 [==============================] - 0s 18ms/step - loss: 0.0712 - accuracy: 0.9959 - val_loss: 0.2960 - val_accuracy: 0.9091\n",
      "Epoch 80/100\n",
      "8/8 [==============================] - 0s 18ms/step - loss: 0.0689 - accuracy: 1.0000 - val_loss: 0.2957 - val_accuracy: 0.9091\n",
      "Epoch 81/100\n",
      "8/8 [==============================] - 0s 32ms/step - loss: 0.0664 - accuracy: 1.0000 - val_loss: 0.2956 - val_accuracy: 0.9091\n",
      "Epoch 82/100\n",
      "8/8 [==============================] - 0s 17ms/step - loss: 0.0644 - accuracy: 1.0000 - val_loss: 0.2959 - val_accuracy: 0.9091\n",
      "Epoch 83/100\n",
      "8/8 [==============================] - 0s 19ms/step - loss: 0.0623 - accuracy: 1.0000 - val_loss: 0.2944 - val_accuracy: 0.9091\n",
      "Epoch 84/100\n",
      "8/8 [==============================] - 0s 18ms/step - loss: 0.0603 - accuracy: 1.0000 - val_loss: 0.2949 - val_accuracy: 0.9091\n",
      "Epoch 85/100\n",
      "8/8 [==============================] - 0s 21ms/step - loss: 0.0584 - accuracy: 1.0000 - val_loss: 0.2939 - val_accuracy: 0.9091\n",
      "Epoch 86/100\n",
      "8/8 [==============================] - 0s 18ms/step - loss: 0.0563 - accuracy: 1.0000 - val_loss: 0.2944 - val_accuracy: 0.9091\n",
      "Epoch 87/100\n",
      "8/8 [==============================] - 0s 18ms/step - loss: 0.0545 - accuracy: 1.0000 - val_loss: 0.2932 - val_accuracy: 0.9091\n",
      "Epoch 88/100\n",
      "8/8 [==============================] - 0s 17ms/step - loss: 0.0525 - accuracy: 1.0000 - val_loss: 0.2939 - val_accuracy: 0.8990\n",
      "Epoch 89/100\n",
      "8/8 [==============================] - 0s 20ms/step - loss: 0.0508 - accuracy: 1.0000 - val_loss: 0.2948 - val_accuracy: 0.8990\n",
      "Epoch 90/100\n",
      "8/8 [==============================] - 0s 17ms/step - loss: 0.0492 - accuracy: 1.0000 - val_loss: 0.2945 - val_accuracy: 0.8990\n",
      "Epoch 91/100\n",
      "8/8 [==============================] - 0s 18ms/step - loss: 0.0474 - accuracy: 1.0000 - val_loss: 0.2934 - val_accuracy: 0.8990\n",
      "Epoch 92/100\n",
      "8/8 [==============================] - 0s 19ms/step - loss: 0.0458 - accuracy: 1.0000 - val_loss: 0.2946 - val_accuracy: 0.8990\n",
      "Epoch 93/100\n",
      "8/8 [==============================] - 0s 19ms/step - loss: 0.0445 - accuracy: 1.0000 - val_loss: 0.2935 - val_accuracy: 0.8990\n",
      "Epoch 94/100\n",
      "8/8 [==============================] - 0s 16ms/step - loss: 0.0429 - accuracy: 1.0000 - val_loss: 0.2956 - val_accuracy: 0.8990\n",
      "Epoch 95/100\n",
      "8/8 [==============================] - 0s 16ms/step - loss: 0.0415 - accuracy: 1.0000 - val_loss: 0.2958 - val_accuracy: 0.8990\n",
      "Epoch 96/100\n",
      "8/8 [==============================] - 0s 17ms/step - loss: 0.0407 - accuracy: 1.0000 - val_loss: 0.2984 - val_accuracy: 0.8889\n",
      "Epoch 97/100\n",
      "8/8 [==============================] - 0s 20ms/step - loss: 0.0390 - accuracy: 1.0000 - val_loss: 0.2956 - val_accuracy: 0.8990\n",
      "Epoch 98/100\n",
      "8/8 [==============================] - 0s 19ms/step - loss: 0.0377 - accuracy: 1.0000 - val_loss: 0.2950 - val_accuracy: 0.8990\n",
      "Epoch 99/100\n",
      "8/8 [==============================] - 0s 16ms/step - loss: 0.0368 - accuracy: 1.0000 - val_loss: 0.2972 - val_accuracy: 0.8990\n",
      "Epoch 100/100\n",
      "8/8 [==============================] - 0s 17ms/step - loss: 0.0356 - accuracy: 1.0000 - val_loss: 0.2959 - val_accuracy: 0.8990\n"
     ]
    },
    {
     "data": {
      "text/plain": [
       "<keras.callbacks.History at 0x2055dff7c08>"
      ]
     },
     "execution_count": 9,
     "metadata": {},
     "output_type": "execute_result"
    }
   ],
   "source": [
    "# train model\n",
    "model.compile(optimizer='adam', loss='binary_crossentropy', metrics=['accuracy'])\n",
    "# early stop\n",
    "early_stop = keras.callbacks.EarlyStopping(monitor='val_loss', patience=30)\n",
    "# train\n",
    "model.fit(train_data, train_label, epochs=100, validation_data=(test_data, test_label), callbacks=[early_stop])"
   ]
  },
  {
   "cell_type": "markdown",
   "metadata": {},
   "source": [
    "### Evaluate"
   ]
  },
  {
   "cell_type": "code",
   "execution_count": 10,
   "metadata": {},
   "outputs": [
    {
     "name": "stderr",
     "output_type": "stream",
     "text": [
      "\n",
      "Bad key \"text.kerning_factor\" on line 4 in\n",
      "c:\\Users\\hirun\\.conda\\envs\\tensorflow-env37\\lib\\site-packages\\matplotlib\\mpl-data\\stylelib\\_classic_test_patch.mplstyle.\n",
      "You probably need to get an updated matplotlibrc file from\n",
      "https://github.com/matplotlib/matplotlib/blob/v3.1.3/matplotlibrc.template\n",
      "or from the matplotlib source distribution\n"
     ]
    },
    {
     "data": {
      "image/png": "[encoded data removed]",
      "text/plain": [
       "<Figure size 432x288 with 2 Axes>"
      ]
     },
     "metadata": {
      "needs_background": "light"
     },
     "output_type": "display_data"
    },
    {
     "name": "stdout",
     "output_type": "stream",
     "text": [
      "              precision    recall  f1-score   support\n",
      "\n",
      "           0       0.95      0.89      0.92        66\n",
      "           1       0.81      0.91      0.86        33\n",
      "\n",
      "    accuracy                           0.90        99\n",
      "   macro avg       0.88      0.90      0.89        99\n",
      "weighted avg       0.90      0.90      0.90        99\n",
      "\n"
     ]
    }
   ],
   "source": [
    "# evaluate report\n",
    "from sklearn.metrics import classification_report\n",
    "# confusion matrix\n",
    "from sklearn.metrics import confusion_matrix\n",
    "import seaborn as sns\n",
    "import matplotlib.pyplot as plt\n",
    "y_pred = model.predict(test_data)\n",
    "y_pred = np.round(y_pred)\n",
    "cm = confusion_matrix(test_label, y_pred)\n",
    "sns.heatmap(cm, annot=True, fmt='d')\n",
    "plt.show()\n",
    "print(classification_report(test_label, y_pred))"
   ]
  },
  {
   "cell_type": "markdown",
   "metadata": {},
   "source": [
    "# save model"
   ]
  },
  {
   "cell_type": "code",
   "execution_count": 11,
   "metadata": {},
   "outputs": [],
   "source": [
    "# save model\n",
    "model.save('./weight/model.h5')"
   ]
  },
  {
   "cell_type": "code",
   "execution_count": 12,
   "metadata": {},
   "outputs": [
    {
     "name": "stdout",
     "output_type": "stream",
     "text": [
      "4/4 [==============================] - 0s 6ms/step - loss: 0.2959 - accuracy: 0.8990\n"
     ]
    },
    {
     "data": {
      "text/plain": [
       "[0.29592427611351013, 0.8989899158477783]"
      ]
     },
     "execution_count": 12,
     "metadata": {},
     "output_type": "execute_result"
    }
   ],
   "source": [
    "# load weight\n",
    "model = keras.models.load_model('./weight/model.h5')\n",
    "# save tokenizer\n",
    "import pickle\n",
    "with open('./weight/tokenizer.pickle', 'wb') as handle:\n",
    "    pickle.dump(tokenizer, handle, protocol=pickle.HIGHEST_PROTOCOL)\n",
    "# evaluate\n",
    "model.evaluate(test_data, test_label)"
   ]
  },
  {
   "cell_type": "code",
   "execution_count": 13,
   "metadata": {},
   "outputs": [],
   "source": [
    "def predict(text, decode=False):\n",
    "    text = pythai.word_tokenize(text, engine='newmm')\n",
    "    text = tokenizer.texts_to_sequences([text])\n",
    "    text = pad_sequences(text, maxlen=60, padding='post', truncating='post')\n",
    "    predict = model.predict(text)\n",
    "    rounded = np.round(predict)\n",
    "    if decode:\n",
    "        return 'pos' if rounded == 1 else 'neg'\n",
    "    return rounded"
   ]
  },
  {
   "cell_type": "code",
   "execution_count": 14,
   "metadata": {},
   "outputs": [
    {
     "data": {
      "text/plain": [
       "'neg'"
      ]
     },
     "execution_count": 14,
     "metadata": {},
     "output_type": "execute_result"
    }
   ],
   "source": [
    "# predict\n",
    "pred = predict('หาดีไม่ได้เลยร้านนี้อะ', decode=True)\n",
    "pred"
   ]
  },
  {
   "cell_type": "code",
   "execution_count": null,
   "metadata": {},
   "outputs": [],
   "source": []
  }
 ],
 "metadata": {
  "kernelspec": {
   "display_name": "Python 3.7.13 ('tensorflow-env37')",
   "language": "python",
   "name": "python3"
  },
  "language_info": {
   "codemirror_mode": {
    "name": "ipython",
    "version": 3
   },
   "file_extension": ".py",
   "mimetype": "text/x-python",
   "name": "python",
   "nbconvert_exporter": "python",
   "pygments_lexer": "ipython3",
   "version": "3.7.13"
  },
  "orig_nbformat": 4,
  "vscode": {
   "interpreter": {
    "hash": "b6a3c604757dc44a08353a4ec1a949c43a541a79879a7886a9e1023196d822de"
   }
  }
 },
 "nbformat": 4,
 "nbformat_minor": 2
}
